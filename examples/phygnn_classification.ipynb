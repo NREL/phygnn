{
 "cells": [
  {
   "cell_type": "markdown",
   "metadata": {},
   "source": [
    "# phygnn binary classification example\n",
    "\n",
    "Here's an example of how to make a binary classifier using a phygnn model without a p_fun."
   ]
  },
  {
   "cell_type": "code",
   "execution_count": 1,
   "metadata": {},
   "outputs": [],
   "source": [
    "import numpy as np\n",
    "import pandas as pd\n",
    "import matplotlib.pyplot as plt\n",
    "import tensorflow as tf\n",
    "from rex import init_logger\n",
    "\n",
    "from phygnn import PhysicsGuidedNeuralNetwork"
   ]
  },
  {
   "cell_type": "code",
   "execution_count": 2,
   "metadata": {},
   "outputs": [
    {
     "data": {
      "text/plain": [
       "<Logger phygnn (INFO)>"
      ]
     },
     "execution_count": 2,
     "metadata": {},
     "output_type": "execute_result"
    }
   ],
   "source": [
    "init_logger('phygnn', log_level='INFO', log_file=None)"
   ]
  },
  {
   "cell_type": "code",
   "execution_count": 3,
   "metadata": {},
   "outputs": [
    {
     "data": {
      "text/html": [
       "<div>\n",
       "<style scoped>\n",
       "    .dataframe tbody tr th:only-of-type {\n",
       "        vertical-align: middle;\n",
       "    }\n",
       "\n",
       "    .dataframe tbody tr th {\n",
       "        vertical-align: top;\n",
       "    }\n",
       "\n",
       "    .dataframe thead th {\n",
       "        text-align: right;\n",
       "    }\n",
       "</style>\n",
       "<table border=\"1\" class=\"dataframe\">\n",
       "  <thead>\n",
       "    <tr style=\"text-align: right;\">\n",
       "      <th></th>\n",
       "      <th>x1</th>\n",
       "      <th>x2</th>\n",
       "    </tr>\n",
       "  </thead>\n",
       "  <tbody>\n",
       "    <tr>\n",
       "      <th>0</th>\n",
       "      <td>-250</td>\n",
       "      <td>-250</td>\n",
       "    </tr>\n",
       "    <tr>\n",
       "      <th>1</th>\n",
       "      <td>-249</td>\n",
       "      <td>-250</td>\n",
       "    </tr>\n",
       "    <tr>\n",
       "      <th>2</th>\n",
       "      <td>-248</td>\n",
       "      <td>-250</td>\n",
       "    </tr>\n",
       "    <tr>\n",
       "      <th>3</th>\n",
       "      <td>-247</td>\n",
       "      <td>-250</td>\n",
       "    </tr>\n",
       "    <tr>\n",
       "      <th>4</th>\n",
       "      <td>-246</td>\n",
       "      <td>-250</td>\n",
       "    </tr>\n",
       "  </tbody>\n",
       "</table>\n",
       "</div>"
      ],
      "text/plain": [
       "    x1   x2\n",
       "0 -250 -250\n",
       "1 -249 -250\n",
       "2 -248 -250\n",
       "3 -247 -250\n",
       "4 -246 -250"
      ]
     },
     "execution_count": 3,
     "metadata": {},
     "output_type": "execute_result"
    }
   ],
   "source": [
    "x1 = np.arange(500) - 250\n",
    "x2 = np.arange(500) - 250\n",
    "x1, x2 = np.meshgrid(x1, x2)\n",
    "x1 = x1.flatten()\n",
    "x2 = x2.flatten()\n",
    "x3 = x1 * x2\n",
    "features = pd.DataFrame({'x1': x1, 'x2': x2})\n",
    "features.head()"
   ]
  },
  {
   "cell_type": "code",
   "execution_count": 4,
   "metadata": {},
   "outputs": [
    {
     "data": {
      "text/html": [
       "<div>\n",
       "<style scoped>\n",
       "    .dataframe tbody tr th:only-of-type {\n",
       "        vertical-align: middle;\n",
       "    }\n",
       "\n",
       "    .dataframe tbody tr th {\n",
       "        vertical-align: top;\n",
       "    }\n",
       "\n",
       "    .dataframe thead th {\n",
       "        text-align: right;\n",
       "    }\n",
       "</style>\n",
       "<table border=\"1\" class=\"dataframe\">\n",
       "  <thead>\n",
       "    <tr style=\"text-align: right;\">\n",
       "      <th></th>\n",
       "      <th>y</th>\n",
       "    </tr>\n",
       "  </thead>\n",
       "  <tbody>\n",
       "    <tr>\n",
       "      <th>0</th>\n",
       "      <td>1.0</td>\n",
       "    </tr>\n",
       "    <tr>\n",
       "      <th>1</th>\n",
       "      <td>1.0</td>\n",
       "    </tr>\n",
       "    <tr>\n",
       "      <th>2</th>\n",
       "      <td>1.0</td>\n",
       "    </tr>\n",
       "    <tr>\n",
       "      <th>3</th>\n",
       "      <td>1.0</td>\n",
       "    </tr>\n",
       "    <tr>\n",
       "      <th>4</th>\n",
       "      <td>1.0</td>\n",
       "    </tr>\n",
       "  </tbody>\n",
       "</table>\n",
       "</div>"
      ],
      "text/plain": [
       "     y\n",
       "0  1.0\n",
       "1  1.0\n",
       "2  1.0\n",
       "3  1.0\n",
       "4  1.0"
      ]
     },
     "execution_count": 4,
     "metadata": {},
     "output_type": "execute_result"
    }
   ],
   "source": [
    "y = ((x1 * x2) > 0).astype(bool).astype(float)\n",
    "labels = pd.DataFrame({'y': y})\n",
    "labels.head()"
   ]
  },
  {
   "cell_type": "code",
   "execution_count": 5,
   "metadata": {},
   "outputs": [],
   "source": [
    "hidden_layers = [{'units': 16},\n",
    "                 {'activation': 'relu'},\n",
    "                 {'units': 16}, \n",
    "                 {'activation': 'relu'},\n",
    "                ]\n",
    "output_layer = [{'units': 1}, \n",
    "                {'activation': 'sigmoid'},\n",
    "               ]"
   ]
  },
  {
   "cell_type": "code",
   "execution_count": 6,
   "metadata": {},
   "outputs": [
    {
     "name": "stdout",
     "output_type": "stream",
     "text": [
      "INFO - 2021-11-01 11:35:25,245 [phygnn.py:498] : Epoch 0 train loss: 1.26e+01 val loss: 8.18e+00 for \"phygnn\"\n",
      "INFO - 2021-11-01 11:35:25,409 [phygnn.py:498] : Epoch 1 train loss: 8.26e+00 val loss: 1.73e+00 for \"phygnn\"\n",
      "INFO - 2021-11-01 11:35:25,581 [phygnn.py:498] : Epoch 2 train loss: 1.75e+00 val loss: 3.29e+00 for \"phygnn\"\n",
      "INFO - 2021-11-01 11:35:25,758 [phygnn.py:498] : Epoch 3 train loss: 3.31e+00 val loss: 3.03e+00 for \"phygnn\"\n",
      "INFO - 2021-11-01 11:35:25,916 [phygnn.py:498] : Epoch 4 train loss: 3.06e+00 val loss: 1.59e+00 for \"phygnn\"\n",
      "INFO - 2021-11-01 11:35:26,053 [phygnn.py:498] : Epoch 5 train loss: 1.63e+00 val loss: 6.06e-01 for \"phygnn\"\n",
      "INFO - 2021-11-01 11:35:26,227 [phygnn.py:498] : Epoch 6 train loss: 6.22e-01 val loss: 1.46e-01 for \"phygnn\"\n",
      "INFO - 2021-11-01 11:35:26,392 [phygnn.py:498] : Epoch 7 train loss: 1.44e-01 val loss: 1.58e-01 for \"phygnn\"\n",
      "INFO - 2021-11-01 11:35:26,584 [phygnn.py:498] : Epoch 8 train loss: 1.55e-01 val loss: 3.75e-01 for \"phygnn\"\n",
      "INFO - 2021-11-01 11:35:26,748 [phygnn.py:498] : Epoch 9 train loss: 3.59e-01 val loss: 4.78e-01 for \"phygnn\"\n",
      "INFO - 2021-11-01 11:35:26,916 [phygnn.py:498] : Epoch 10 train loss: 4.50e-01 val loss: 4.42e-01 for \"phygnn\"\n",
      "INFO - 2021-11-01 11:35:27,088 [phygnn.py:498] : Epoch 11 train loss: 4.09e-01 val loss: 4.50e-01 for \"phygnn\"\n",
      "INFO - 2021-11-01 11:35:27,232 [phygnn.py:498] : Epoch 12 train loss: 4.17e-01 val loss: 3.86e-01 for \"phygnn\"\n",
      "INFO - 2021-11-01 11:35:27,374 [phygnn.py:498] : Epoch 13 train loss: 3.60e-01 val loss: 3.39e-01 for \"phygnn\"\n",
      "INFO - 2021-11-01 11:35:27,556 [phygnn.py:498] : Epoch 14 train loss: 3.25e-01 val loss: 2.54e-01 for \"phygnn\"\n",
      "INFO - 2021-11-01 11:35:27,704 [phygnn.py:498] : Epoch 15 train loss: 2.46e-01 val loss: 1.08e-01 for \"phygnn\"\n",
      "INFO - 2021-11-01 11:35:27,836 [phygnn.py:498] : Epoch 16 train loss: 1.03e-01 val loss: 9.77e-02 for \"phygnn\"\n",
      "INFO - 2021-11-01 11:35:27,971 [phygnn.py:498] : Epoch 17 train loss: 9.36e-02 val loss: 6.76e-02 for \"phygnn\"\n",
      "INFO - 2021-11-01 11:35:28,110 [phygnn.py:498] : Epoch 18 train loss: 6.63e-02 val loss: 1.33e-01 for \"phygnn\"\n",
      "INFO - 2021-11-01 11:35:28,241 [phygnn.py:498] : Epoch 19 train loss: 1.33e-01 val loss: 6.92e-02 for \"phygnn\"\n",
      "INFO - 2021-11-01 11:35:28,390 [phygnn.py:498] : Epoch 20 train loss: 6.98e-02 val loss: 7.40e-02 for \"phygnn\"\n",
      "INFO - 2021-11-01 11:35:28,552 [phygnn.py:498] : Epoch 21 train loss: 7.37e-02 val loss: 7.44e-02 for \"phygnn\"\n",
      "INFO - 2021-11-01 11:35:28,688 [phygnn.py:498] : Epoch 22 train loss: 7.48e-02 val loss: 6.11e-02 for \"phygnn\"\n",
      "INFO - 2021-11-01 11:35:28,833 [phygnn.py:498] : Epoch 23 train loss: 6.13e-02 val loss: 5.84e-02 for \"phygnn\"\n",
      "INFO - 2021-11-01 11:35:29,018 [phygnn.py:498] : Epoch 24 train loss: 5.72e-02 val loss: 4.71e-02 for \"phygnn\"\n",
      "INFO - 2021-11-01 11:35:29,190 [phygnn.py:498] : Epoch 25 train loss: 4.42e-02 val loss: 8.04e-02 for \"phygnn\"\n",
      "INFO - 2021-11-01 11:35:29,342 [phygnn.py:498] : Epoch 26 train loss: 7.55e-02 val loss: 5.56e-02 for \"phygnn\"\n",
      "INFO - 2021-11-01 11:35:29,493 [phygnn.py:498] : Epoch 27 train loss: 5.27e-02 val loss: 5.29e-02 for \"phygnn\"\n",
      "INFO - 2021-11-01 11:35:29,650 [phygnn.py:498] : Epoch 28 train loss: 5.14e-02 val loss: 2.71e-02 for \"phygnn\"\n",
      "INFO - 2021-11-01 11:35:29,790 [phygnn.py:498] : Epoch 29 train loss: 2.64e-02 val loss: 3.21e-02 for \"phygnn\"\n",
      "INFO - 2021-11-01 11:35:29,956 [phygnn.py:498] : Epoch 30 train loss: 3.15e-02 val loss: 3.60e-02 for \"phygnn\"\n",
      "INFO - 2021-11-01 11:35:30,114 [phygnn.py:498] : Epoch 31 train loss: 3.62e-02 val loss: 3.07e-02 for \"phygnn\"\n",
      "INFO - 2021-11-01 11:35:30,249 [phygnn.py:498] : Epoch 32 train loss: 3.20e-02 val loss: 4.04e-02 for \"phygnn\"\n",
      "INFO - 2021-11-01 11:35:30,391 [phygnn.py:498] : Epoch 33 train loss: 4.18e-02 val loss: 3.16e-02 for \"phygnn\"\n",
      "INFO - 2021-11-01 11:35:30,547 [phygnn.py:498] : Epoch 34 train loss: 3.29e-02 val loss: 3.54e-02 for \"phygnn\"\n",
      "INFO - 2021-11-01 11:35:30,687 [phygnn.py:498] : Epoch 35 train loss: 3.54e-02 val loss: 2.00e-02 for \"phygnn\"\n",
      "INFO - 2021-11-01 11:35:30,831 [phygnn.py:498] : Epoch 36 train loss: 2.03e-02 val loss: 2.21e-02 for \"phygnn\"\n",
      "INFO - 2021-11-01 11:35:30,988 [phygnn.py:498] : Epoch 37 train loss: 2.22e-02 val loss: 2.38e-02 for \"phygnn\"\n",
      "INFO - 2021-11-01 11:35:31,125 [phygnn.py:498] : Epoch 38 train loss: 2.34e-02 val loss: 2.39e-02 for \"phygnn\"\n",
      "INFO - 2021-11-01 11:35:31,321 [phygnn.py:498] : Epoch 39 train loss: 2.30e-02 val loss: 2.59e-02 for \"phygnn\"\n",
      "INFO - 2021-11-01 11:35:31,633 [phygnn.py:498] : Epoch 40 train loss: 2.44e-02 val loss: 2.26e-02 for \"phygnn\"\n",
      "INFO - 2021-11-01 11:35:31,796 [phygnn.py:498] : Epoch 41 train loss: 2.17e-02 val loss: 2.71e-02 for \"phygnn\"\n",
      "INFO - 2021-11-01 11:35:31,976 [phygnn.py:498] : Epoch 42 train loss: 2.63e-02 val loss: 1.94e-02 for \"phygnn\"\n",
      "INFO - 2021-11-01 11:35:32,158 [phygnn.py:498] : Epoch 43 train loss: 1.89e-02 val loss: 1.86e-02 for \"phygnn\"\n",
      "INFO - 2021-11-01 11:35:32,335 [phygnn.py:498] : Epoch 44 train loss: 1.77e-02 val loss: 1.62e-02 for \"phygnn\"\n",
      "INFO - 2021-11-01 11:35:32,611 [phygnn.py:498] : Epoch 45 train loss: 1.59e-02 val loss: 1.83e-02 for \"phygnn\"\n",
      "INFO - 2021-11-01 11:35:32,786 [phygnn.py:498] : Epoch 46 train loss: 1.86e-02 val loss: 1.82e-02 for \"phygnn\"\n",
      "INFO - 2021-11-01 11:35:32,954 [phygnn.py:498] : Epoch 47 train loss: 1.87e-02 val loss: 1.65e-02 for \"phygnn\"\n",
      "INFO - 2021-11-01 11:35:33,113 [phygnn.py:498] : Epoch 48 train loss: 1.70e-02 val loss: 1.85e-02 for \"phygnn\"\n",
      "INFO - 2021-11-01 11:35:33,374 [phygnn.py:498] : Epoch 49 train loss: 1.87e-02 val loss: 1.64e-02 for \"phygnn\"\n"
     ]
    }
   ],
   "source": [
    "PhysicsGuidedNeuralNetwork.seed(0)\n",
    "model = PhysicsGuidedNeuralNetwork(p_fun=None, \n",
    "                                   hidden_layers=hidden_layers,\n",
    "                                   output_layer=output_layer,\n",
    "                                   loss_weights=(1.0, 0.0), \n",
    "                                   metric='binary_crossentropy',\n",
    "                                   learning_rate=0.05,\n",
    "                                   n_features=2, n_labels=1)\n",
    "model.fit(features, labels, features, n_batch=1, n_epoch=50)"
   ]
  },
  {
   "cell_type": "code",
   "execution_count": 7,
   "metadata": {},
   "outputs": [
    {
     "data": {
      "image/png": "[encoded data removed]",
      "text/plain": [
       "<Figure size 432x288 with 1 Axes>"
      ]
     },
     "metadata": {
      "needs_background": "light"
     },
     "output_type": "display_data"
    },
    {
     "name": "stdout",
     "output_type": "stream",
     "text": [
      "Accuracy: 99.49%\n"
     ]
    }
   ],
   "source": [
    "model.history[['training_loss', 'validation_loss']].plot()\n",
    "plt.ylabel('Loss')\n",
    "plt.show()\n",
    "plt.close()\n",
    "\n",
    "y_pred = model.predict(features)\n",
    "accuracy = 100 * (np.round(y_pred) == labels.values).sum() / len(labels)\n",
    "print('Accuracy: {:.2f}%'.format(accuracy))"
   ]
  },
  {
   "cell_type": "code",
   "execution_count": null,
   "metadata": {},
   "outputs": [],
   "source": []
  },
  {
   "cell_type": "code",
   "execution_count": null,
   "metadata": {},
   "outputs": [],
   "source": []
  }
 ],
 "metadata": {
  "kernelspec": {
   "display_name": "Python 3",
   "language": "python",
   "name": "python3"
  },
  "language_info": {
   "codemirror_mode": {
    "name": "ipython",
    "version": 3
   },
   "file_extension": ".py",
   "mimetype": "text/x-python",
   "name": "python",
   "nbconvert_exporter": "python",
   "pygments_lexer": "ipython3",
   "version": "3.8.5"
  }
 },
 "nbformat": 4,
 "nbformat_minor": 4
}
